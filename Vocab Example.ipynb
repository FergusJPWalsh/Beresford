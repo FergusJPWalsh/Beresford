{
 "cells": [
  {
   "cell_type": "markdown",
   "id": "af97d773",
   "metadata": {},
   "source": [
    "# Basic Auto Running Vocab with Classical Language Toolkit (CLTK)\n",
    "\n",
    "Note: CLTK runs only on Linux or MacOS. See https://github.com/cltk/cltk/blob/master/notebooks/CLTK%20Demonstration.ipynb for a quick-start guide."
   ]
  },
  {
   "cell_type": "code",
   "execution_count": 1,
   "id": "961e29c8",
   "metadata": {},
   "outputs": [
    {
     "name": "stderr",
     "output_type": "stream",
     "text": [
      "/home/fergus/.local/lib/python3.8/site-packages/torch/cuda/__init__.py:52: UserWarning: CUDA initialization: Found no NVIDIA driver on your system. Please check that you have an NVIDIA GPU and installed a driver from http://www.nvidia.com/Download/index.aspx (Triggered internally at  /pytorch/c10/cuda/CUDAFunctions.cpp:100.)\n",
      "  return torch._C._cuda_getDeviceCount() > 0\n"
     ]
    },
    {
     "name": "stdout",
     "output_type": "stream",
     "text": [
      "‎𐤀 CLTK version '1.1.3'.\n",
      "Pipeline for language 'Ancient Greek' (ISO: 'grc'): `GreekNormalizeProcess`, `GreekStanzaProcess`, `GreekEmbeddingsProcess`, `StopsProcess`.\n"
     ]
    }
   ],
   "source": [
    "from cltk import NLP\n",
    "cltk_nlp = NLP(language=\"grc\")"
   ]
  },
  {
   "cell_type": "markdown",
   "id": "635217ec",
   "metadata": {},
   "source": [
    "Using first paragraph of Beresford and Douglas 2.1 as an example."
   ]
  },
  {
   "cell_type": "code",
   "execution_count": 2,
   "id": "8186b8e1",
   "metadata": {},
   "outputs": [
    {
     "name": "stdout",
     "output_type": "stream",
     "text": [
      "2.1.1 Ὀρφεὺς πολὺ ἐτιμήθη ἐν τοῖς πάλαι· λύραν χρυσῆν εἶχε δῶρον Ἀπόλλωνος· αἱ δὲ Μοῦσαι αὐτὸν ἐδίδαξαν τὴν λύραν ψάλλειν, καὶ οὐ διὰ μακροῦ ἐμπειρότατος ἐγένετο τῆς τέχνης, καὶ ἐς τοσοῦτον ἧκεν ἐπιστήμης ὥστε θέλγειν οὐ μόνον τὰ ζῷα ἀλλὰ καὶ τὰ δένδρα τῇ μουσικῇ. Οἱ δὲ θῆρες, ὡς λέγουσιν, ἀκούσαντες τὸ μέλος τῷ Ὀρφεῖ ἠκολούθουν.\n",
      "\n"
     ]
    }
   ],
   "source": [
    "with open(\"../text/Beresford.02.txt\", encoding=\"utf-8\") as f:\n",
    "    beresford = f.readlines()\n",
    "test = beresford[1]\n",
    "print(test)"
   ]
  },
  {
   "cell_type": "markdown",
   "id": "3b9665c7",
   "metadata": {
    "scrolled": false
   },
   "source": [
    "Running the Ancient Greek pipeline and showing the `word` data type."
   ]
  },
  {
   "cell_type": "code",
   "execution_count": 3,
   "id": "b7f8a116",
   "metadata": {},
   "outputs": [
    {
     "name": "stdout",
     "output_type": "stream",
     "text": [
      "Tokens: ['2.1.1', 'Ὀρφεὺς', 'πολὺ', 'ἐτιμήθη', 'ἐν', 'τοῖς', 'πάλαι·', 'λύραν', 'χρυσῆν', 'εἶχε', 'δῶρον', 'Ἀπόλλωνος·', 'αἱ', 'δὲ', 'Μοῦσαι', 'αὐτὸν', 'ἐδίδαξαν', 'τὴν', 'λύραν', 'ψάλλειν,', 'καὶ', 'οὐ', 'διὰ', 'μακροῦ', 'ἐμπειρότατος', 'ἐγένετο', 'τῆς', 'τέχνης,', 'καὶ', 'ἐς', 'τοσοῦτον', 'ἧκεν', 'ἐπιστήμης', 'ὥστε', 'θέλγειν', 'οὐ', 'μόνον', 'τὰ', 'ζῷα', 'ἀλλὰ', 'καὶ', 'τὰ', 'δένδρα', 'τῇ', 'μουσικῇ.', 'Οἱ', 'δὲ', 'θῆρες,', 'ὡς', 'λέγουσιν,', 'ἀκούσαντες', 'τὸ', 'μέλος', 'τῷ', 'Ὀρφεῖ', 'ἠκολούθουν.']\n",
      "\n",
      "Word index=3:\n",
      " Word(index_char_start=None, index_char_stop=None, index_token=3, index_sentence=0, string='ἐτιμήθη', pos=verb, lemma='τιμάω', stem=None, scansion=None, xpos='V-', upos='VERB', dependency_relation='root', governor=-1, features={Aspect: [perfective], Mood: [indicative], Number: [singular], Person: [third], Tense: [past], VerbForm: [finite], Voice: [passive]}, category={F: [neg], N: [neg], V: [pos]}, stop=False, named_entity=None, syllables=None, phonetic_transcription=None, definition=None)\n",
      "\n",
      "Token: ἐτιμήθη\n",
      "Lemma: τιμάω\n",
      "Morphology: {Aspect: [perfective], Mood: [indicative], Number: [singular], Person: [third], Tense: [past], VerbForm: [finite], Voice: [passive]}\n"
     ]
    }
   ],
   "source": [
    "cltk_doc_grc = cltk_nlp.analyze(text=test)\n",
    "print(\"Tokens:\", cltk_doc_grc.tokens)\n",
    "print(\"\\nWord index=3:\\n\",cltk_doc_grc.words[3])\n",
    "print(\"\\nToken:\",cltk_doc_grc.words[3].string)\n",
    "print(\"Lemma:\",cltk_doc_grc.words[3].lemma)\n",
    "print(\"Morphology:\",cltk_doc_grc.words[3].features)"
   ]
  },
  {
   "cell_type": "markdown",
   "id": "4df9c4fe",
   "metadata": {},
   "source": [
    "Putting tokens, lemmata and morphology of non-stop words into lists."
   ]
  },
  {
   "cell_type": "code",
   "execution_count": 16,
   "id": "0029d6e5",
   "metadata": {},
   "outputs": [],
   "source": [
    "tokens = []\n",
    "lemmata = []\n",
    "morph = []\n",
    "for word in cltk_doc_grc:\n",
    "    if word.stop == False:\n",
    "            tokens.append(word.string)\n",
    "            lemmata.append(word.lemma)\n",
    "            morph.append(word.features)"
   ]
  },
  {
   "cell_type": "markdown",
   "id": "07a22580",
   "metadata": {},
   "source": [
    "Using the Perseus and Logeion Greek Short Definitions to add basic glosses.\n",
    "\n",
    "https://github.com/helmadik/shortdefs"
   ]
  },
  {
   "cell_type": "code",
   "execution_count": 37,
   "id": "fc713877",
   "metadata": {},
   "outputs": [
    {
     "name": "stdout",
     "output_type": "stream",
     "text": [
      "Short defs: [('lemma', 'def'), ('ἆ', 'ah!'), ('ἃ', 'ha ha'), ('ἀάατος', 'not to be injured, inviolable'), ('ἀαγής', 'unbroken, not to be broken, hard, strong'), ('ἄαδα', 'unpleasant'), ('ἀάζω', 'breathe with the mouth wide open'), ('ἀακίδωτος', 'barbless'), ('ἄανθα', 'ear-ring'), ('ἄαπτος', 'not to be touched, resistless, invincible')] \n",
      "\n",
      "}\n",
      "Case: [nominative], Gender: [masculine], Number: [singular]}\n",
      "Case: [accusative], Degree: [positive], Gender: [neuter], Number: [singular]}\n",
      "Aspect: [perfective], Mood: [indicative], Number: [singular], Person: [third], Tense: [past], VerbForm: [finite], Voice: [passive]}\n",
      "Case: [dative], Gender: [masculine], Number: [plural]}\n",
      "Case: [accusative], Gender: [feminine], Number: [singular]}\n",
      "Case: [accusative], Gender: [feminine], Number: [singular]}\n",
      "Aspect: [imperfective], Mood: [indicative], Number: [singular], Person: [third], Tense: [past], VerbForm: [finite], Voice: [active]}\n",
      "Case: [accusative], Gender: [neuter], Number: [singular]}\n",
      "Case: [genitive], Gender: [masculine], Number: [singular]}\n",
      "Case: [nominative], Gender: [masculine], Number: [plural]}\n",
      "Case: [accusative], Gender: [masculine], Number: [singular], Person: [third], PrononimalType: [personal]}\n",
      "Aspect: [perfective], Mood: [indicative], Number: [plural], Person: [third], Tense: [past], VerbForm: [finite], Voice: [active]}\n",
      "Case: [accusative], Gender: [feminine], Number: [singular]}\n",
      "Tense: [present], VerbForm: [infinitive], Voice: [active]}\n",
      "Case: [genitive], Degree: [positive], Gender: [neuter], Number: [singular]}\n",
      "Case: [nominative], Degree: [superlative], Gender: [masculine], Number: [singular]}\n",
      "Aspect: [perfective], Mood: [indicative], Number: [singular], Person: [third], Tense: [past], VerbForm: [finite], Voice: [middle]}\n",
      "Case: [genitive], Gender: [feminine], Number: [singular]}\n",
      "Case: [accusative], Gender: [neuter], Number: [singular]}\n",
      "Aspect: [imperfective], Mood: [indicative], Number: [singular], Person: [third], Tense: [past], VerbForm: [finite], Voice: [active]}\n",
      "Case: [genitive], Gender: [feminine], Number: [singular]}\n",
      "Tense: [present], VerbForm: [infinitive], Voice: [active]}\n",
      "Case: [accusative], Degree: [positive], Gender: [neuter], Number: [singular]}\n",
      "Case: [accusative], Gender: [neuter], Number: [plural]}\n",
      "Case: [nominative], Gender: [neuter], Number: [plural]}\n",
      "Case: [dative], Degree: [positive], Gender: [feminine], Number: [singular]}\n",
      "Case: [nominative], Gender: [masculine], Number: [plural]}\n",
      "Mood: [indicative], Number: [plural], Person: [third], Tense: [present], VerbForm: [finite], Voice: [active]}\n",
      "Aspect: [perfective], Case: [nominative], Gender: [masculine], Number: [plural], Tense: [past], VerbForm: [participle], Voice: [active]}\n",
      "Case: [accusative], Gender: [neuter], Number: [singular]}\n",
      "Case: [dative], Gender: [masculine], Number: [singular]}\n",
      "Aspect: [imperfective], Mood: [indicative], Number: [plural], Person: [third], Tense: [past], VerbForm: [finite], Voice: [active]}\n"
     ]
    }
   ],
   "source": [
    "import csv\n",
    "with open(\"shortdefsGreekEnglishLogeion\", \"r\", encoding=\"utf-8\") as f:\n",
    "    reader = csv.reader(f, delimiter = \"\\t\")\n",
    "    shortdefs = dict((row[0], row[1]) for row in reader)\n",
    "print(\"Short defs:\",list(shortdefs.items())[0:10],\"\\n\")\n",
    "glosses = []\n",
    "for lemma in lemmata:\n",
    "    if lemma in shortdefs:\n",
    "        gloss = shortdefs[lemma]\n",
    "        glosses.append(gloss)\n",
    "    else:\n",
    "        gloss = \"\"\n",
    "        glosses.append(gloss)\n",
    "rows = zip(tokens, lemmata, morph, glosses)\n",
    "rows = list(rows)\n",
    "for row in rows:\n",
    "    m = str(row[2])\n",
    "    m = m.replace(\"{\",\"\")\n",
    "    print(m)\n",
    "    #print(row)"
   ]
  },
  {
   "cell_type": "markdown",
   "id": "f4178af8",
   "metadata": {},
   "source": [
    "Export to a TSV file."
   ]
  },
  {
   "cell_type": "code",
   "execution_count": 28,
   "id": "5d4dc983",
   "metadata": {},
   "outputs": [],
   "source": [
    "with open(\"test_vocab.tsv\", \"w\", encoding=\"utf-8\") as g:\n",
    "    writer = csv.writer(g, delimiter=\"\\t\")\n",
    "    for row in rows:\n",
    "        writer.writerow(row)"
   ]
  }
 ],
 "metadata": {
  "kernelspec": {
   "display_name": "Python 3 (ipykernel)",
   "language": "python",
   "name": "python3"
  },
  "language_info": {
   "codemirror_mode": {
    "name": "ipython",
    "version": 3
   },
   "file_extension": ".py",
   "mimetype": "text/x-python",
   "name": "python",
   "nbconvert_exporter": "python",
   "pygments_lexer": "ipython3",
   "version": "3.8.10"
  }
 },
 "nbformat": 4,
 "nbformat_minor": 5
}
